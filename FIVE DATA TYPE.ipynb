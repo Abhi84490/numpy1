{
 "cells": [
  {
   "cell_type": "markdown",
   "id": "e6f03a74",
   "metadata": {},
   "source": [
    "# DATA TYPE "
   ]
  },
  {
   "cell_type": "code",
   "execution_count": 1,
   "id": "92736f65",
   "metadata": {},
   "outputs": [
    {
     "name": "stdout",
     "output_type": "stream",
     "text": [
      "data type:  int32\n"
     ]
    }
   ],
   "source": [
    "import numpy as np \n",
    "var = np.array([1,2,3,4,])\n",
    "print(\"data type: \", var.dtype)"
   ]
  },
  {
   "cell_type": "code",
   "execution_count": 2,
   "id": "9c30ad89",
   "metadata": {},
   "outputs": [
    {
     "name": "stdout",
     "output_type": "stream",
     "text": [
      "data type: <U1\n"
     ]
    }
   ],
   "source": [
    "import numpy as np\n",
    "var = np.array(['a','b','c'])\n",
    "print(\"data type:\", var.dtype)"
   ]
  },
  {
   "cell_type": "code",
   "execution_count": 3,
   "id": "3a92c9b2",
   "metadata": {},
   "outputs": [
    {
     "name": "stdout",
     "output_type": "stream",
     "text": [
      "data type: float64\n"
     ]
    }
   ],
   "source": [
    "import numpy as np\n",
    "var= np.array([1.4, 4,5,4,2,5])\n",
    "print('data type:', var.dtype)"
   ]
  },
  {
   "cell_type": "code",
   "execution_count": 4,
   "id": "1ba14125",
   "metadata": {},
   "outputs": [
    {
     "name": "stdout",
     "output_type": "stream",
     "text": [
      "data type: <U32\n"
     ]
    }
   ],
   "source": [
    "import numpy as np\n",
    "var = np.array(['a','b','c',1,3,4,5.5, 88])\n",
    "print('data type:', var.dtype)"
   ]
  },
  {
   "cell_type": "markdown",
   "id": "636ba1cd",
   "metadata": {},
   "source": [
    "# type casting"
   ]
  },
  {
   "cell_type": "code",
   "execution_count": 6,
   "id": "20046afc",
   "metadata": {},
   "outputs": [
    {
     "name": "stdout",
     "output_type": "stream",
     "text": [
      "data type: int8\n",
      "[1 2 3 4]\n"
     ]
    }
   ],
   "source": [
    "import numpy as np\n",
    "x= np.array([1,2,3,4], dtype = np.int8)\n",
    "print('data type:', x.dtype)\n",
    "print(x)"
   ]
  },
  {
   "cell_type": "markdown",
   "id": "be28971d",
   "metadata": {},
   "source": [
    "# convert in float"
   ]
  },
  {
   "cell_type": "code",
   "execution_count": 7,
   "id": "165f13d0",
   "metadata": {},
   "outputs": [
    {
     "name": "stdout",
     "output_type": "stream",
     "text": [
      "data type: float32\n",
      "[1. 2. 3. 4.]\n"
     ]
    }
   ],
   "source": [
    "import numpy as np\n",
    "x= np.array([1,2,3,4], dtype = 'f')\n",
    "print('data type:', x.dtype)\n",
    "print(x)\n",
    "  "
   ]
  },
  {
   "cell_type": "code",
   "execution_count": 8,
   "id": "1a0f060f",
   "metadata": {},
   "outputs": [
    {
     "name": "stdout",
     "output_type": "stream",
     "text": [
      "data type: int32\n",
      "[1. 2. 3. 4.]\n",
      "[1 2 3 4]\n",
      "[1 2 3 4]\n"
     ]
    }
   ],
   "source": [
    "import numpy as np\n",
    "x= np.array([1,2,3,4])\n",
    "new = np.float32(x)\n",
    "new_one = np.int_(new)\n",
    "print('data type:', x.dtype)\n",
    "print(new)\n",
    "print(new_one)\n",
    "print(x)"
   ]
  },
  {
   "cell_type": "code",
   "execution_count": 10,
   "id": "9e22444e",
   "metadata": {},
   "outputs": [
    {
     "name": "stdout",
     "output_type": "stream",
     "text": [
      "<class 'numpy.ndarray'> [1 2 3 4]\n",
      "[1. 2. 3. 4.]\n"
     ]
    }
   ],
   "source": [
    "\n",
    "\n",
    "x= np. array([1,2,3,4])\n",
    "new_1 =  x.astype(float)\n",
    "print(type(x),x)\n",
    "print(new_1)"
   ]
  },
  {
   "cell_type": "code",
   "execution_count": null,
   "id": "e2782635",
   "metadata": {},
   "outputs": [],
   "source": []
  }
 ],
 "metadata": {
  "kernelspec": {
   "display_name": "Python 3 (ipykernel)",
   "language": "python",
   "name": "python3"
  },
  "language_info": {
   "codemirror_mode": {
    "name": "ipython",
    "version": 3
   },
   "file_extension": ".py",
   "mimetype": "text/x-python",
   "name": "python",
   "nbconvert_exporter": "python",
   "pygments_lexer": "ipython3",
   "version": "3.9.12"
  }
 },
 "nbformat": 4,
 "nbformat_minor": 5
}
