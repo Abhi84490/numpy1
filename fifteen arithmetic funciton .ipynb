{
 "cells": [
  {
   "cell_type": "markdown",
   "id": "d3892ed8",
   "metadata": {},
   "source": [
    "# shuffle"
   ]
  },
  {
   "cell_type": "code",
   "execution_count": 2,
   "id": "e24dd7e7",
   "metadata": {},
   "outputs": [
    {
     "name": "stdout",
     "output_type": "stream",
     "text": [
      "[4 2 5 3 1]\n"
     ]
    }
   ],
   "source": [
    "import numpy as np\n",
    "\n",
    "var=np.array([1,2,3,4,5])\n",
    "np.random.shuffle(var)\n",
    "print(var)"
   ]
  },
  {
   "cell_type": "markdown",
   "id": "25728d97",
   "metadata": {},
   "source": [
    "# unique function"
   ]
  },
  {
   "cell_type": "code",
   "execution_count": 6,
   "id": "ef72f2a2",
   "metadata": {},
   "outputs": [
    {
     "name": "stdout",
     "output_type": "stream",
     "text": [
      "(array([1, 2, 3, 4, 5, 6, 7]), array([0, 1, 2, 3, 4, 5, 6], dtype=int64), array([2, 3, 1, 2, 2, 1, 1], dtype=int64))\n",
      "\n",
      "\n"
     ]
    }
   ],
   "source": [
    "a= np.array([1,2,3,4,5,6,7,2,4,5,2,1])\n",
    "b= np.unique(a,return_index= True,return_counts=True)\n",
    "print(b)\n",
    "\n",
    "print()\n",
    "print()"
   ]
  },
  {
   "cell_type": "markdown",
   "id": "b8c0ccee",
   "metadata": {},
   "source": [
    "# resize function"
   ]
  },
  {
   "cell_type": "code",
   "execution_count": 7,
   "id": "06838212",
   "metadata": {},
   "outputs": [
    {
     "name": "stdout",
     "output_type": "stream",
     "text": [
      "[[1 2 3]\n",
      " [4 5 6]]\n"
     ]
    }
   ],
   "source": [
    "c= np.array([1,2,3,4,5,6,7])\n",
    "d= np.resize(a,(2,3))\n",
    "print(d)"
   ]
  },
  {
   "cell_type": "markdown",
   "id": "65663b93",
   "metadata": {},
   "source": [
    "# flatten function"
   ]
  },
  {
   "cell_type": "code",
   "execution_count": 9,
   "id": "106e8d10",
   "metadata": {},
   "outputs": [
    {
     "name": "stdout",
     "output_type": "stream",
     "text": [
      "[1 2 3 4 5 6 7 8]\n"
     ]
    }
   ],
   "source": [
    "e= np.array([[1,2,3,4], [5,6,7,8]])\n",
    "print(e.flatten())"
   ]
  },
  {
   "cell_type": "markdown",
   "id": "0aa3cd6d",
   "metadata": {},
   "source": [
    "# ravel"
   ]
  },
  {
   "cell_type": "code",
   "execution_count": 11,
   "id": "b105d9ec",
   "metadata": {},
   "outputs": [
    {
     "name": "stdout",
     "output_type": "stream",
     "text": [
      "ravel: [1 2 3 4 5 6 7 8]\n"
     ]
    }
   ],
   "source": [
    "f= np.array([[1,2,3,4],[5,6,7,8]])\n",
    "print(\"ravel:\", np.ravel(f))"
   ]
  },
  {
   "cell_type": "code",
   "execution_count": null,
   "id": "046e3ab6",
   "metadata": {},
   "outputs": [],
   "source": []
  }
 ],
 "metadata": {
  "kernelspec": {
   "display_name": "Python 3 (ipykernel)",
   "language": "python",
   "name": "python3"
  },
  "language_info": {
   "codemirror_mode": {
    "name": "ipython",
    "version": 3
   },
   "file_extension": ".py",
   "mimetype": "text/x-python",
   "name": "python",
   "nbconvert_exporter": "python",
   "pygments_lexer": "ipython3",
   "version": "3.9.12"
  }
 },
 "nbformat": 4,
 "nbformat_minor": 5
}
