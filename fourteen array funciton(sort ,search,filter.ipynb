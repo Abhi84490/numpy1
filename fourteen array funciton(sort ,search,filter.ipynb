{
 "cells": [
  {
   "cell_type": "markdown",
   "id": "69d8ae64",
   "metadata": {},
   "source": [
    "# search"
   ]
  },
  {
   "cell_type": "code",
   "execution_count": null,
   "id": "dd2cf912",
   "metadata": {},
   "outputs": [],
   "source": [
    "import numpy as np\n",
    "var= np.array([1,2,3,4,5,6,7,8,9,4,5,6,7])\n",
    "\n",
    "x= np.where(var==4)\n",
    "print(x)"
   ]
  },
  {
   "cell_type": "code",
   "execution_count": 4,
   "id": "a34e420a",
   "metadata": {},
   "outputs": [
    {
     "name": "stdout",
     "output_type": "stream",
     "text": [
      "(array([ 1,  3,  5,  7,  9, 11], dtype=int64),)\n"
     ]
    }
   ],
   "source": [
    "import numpy as np\n",
    "a= np.array([1,2,3,4,5,6,7,8])\n",
    "y=np.where(var%2==0)\n",
    "print(y)"
   ]
  },
  {
   "cell_type": "markdown",
   "id": "40cef082",
   "metadata": {},
   "source": [
    "# search sort array"
   ]
  },
  {
   "cell_type": "code",
   "execution_count": 13,
   "id": "32728903",
   "metadata": {},
   "outputs": [
    {
     "name": "stdout",
     "output_type": "stream",
     "text": [
      "11\n"
     ]
    }
   ],
   "source": [
    "import numpy as np\n",
    "x= np.array([1,2,3,4,5,6,7,8, 11,4,5,9,])\n",
    "y= np.searchsorted(x,9)\n",
    "print(y)"
   ]
  },
  {
   "cell_type": "code",
   "execution_count": 14,
   "id": "e1a36560",
   "metadata": {},
   "outputs": [
    {
     "name": "stdout",
     "output_type": "stream",
     "text": [
      "6\n"
     ]
    }
   ],
   "source": [
    "import numpy as np\n",
    "a= np.array([1,2,3,4,5,6,15])\n",
    "b=np.searchsorted(a,10, side= 'right')\n",
    "print(b)"
   ]
  },
  {
   "cell_type": "code",
   "execution_count": 15,
   "id": "f3dca78c",
   "metadata": {},
   "outputs": [
    {
     "name": "stdout",
     "output_type": "stream",
     "text": [
      "6\n"
     ]
    }
   ],
   "source": [
    "import numpy as np\n",
    "a= np.array([1,2,3,4,5,6,15])\n",
    "b=np.searchsorted(a,10, side= 'left')\n",
    "print(b)"
   ]
  },
  {
   "cell_type": "code",
   "execution_count": 17,
   "id": "c50e74d6",
   "metadata": {},
   "outputs": [
    {
     "name": "stdout",
     "output_type": "stream",
     "text": [
      "[0 5 6 7]\n"
     ]
    }
   ],
   "source": [
    "import numpy as np\n",
    "c= np.array([1,2,3,4,5,6,7])\n",
    "d= np.searchsorted(c,[1,6,7,8])\n",
    "print(d)"
   ]
  },
  {
   "cell_type": "code",
   "execution_count": 18,
   "id": "c8c30b1c",
   "metadata": {},
   "outputs": [
    {
     "name": "stdout",
     "output_type": "stream",
     "text": [
      "[4 4 4]\n"
     ]
    }
   ],
   "source": [
    "import numpy as np\n",
    "c=np.array([1,2,3,4,8,9])\n",
    "k=np.searchsorted(c,[5,6,7])\n",
    "print(k)"
   ]
  },
  {
   "cell_type": "markdown",
   "id": "8b55edfa",
   "metadata": {},
   "source": [
    "# sort"
   ]
  },
  {
   "cell_type": "code",
   "execution_count": 19,
   "id": "5e2cc283",
   "metadata": {},
   "outputs": [
    {
     "name": "stdout",
     "output_type": "stream",
     "text": [
      "[ 1  3  4  6  7  8  9 10 12 13 15]\n"
     ]
    }
   ],
   "source": [
    "import numpy as np\n",
    "\n",
    "a= np.array([6,4,7,3,8,9,1,10,15,12,13])\n",
    "print(np.sort(a))"
   ]
  },
  {
   "cell_type": "code",
   "execution_count": 20,
   "id": "46430524",
   "metadata": {},
   "outputs": [
    {
     "name": "stdout",
     "output_type": "stream",
     "text": [
      "['a' 'd' 'f' 's']\n"
     ]
    }
   ],
   "source": [
    "b= np.array(['a','s','d','f'])\n",
    "print(np.sort(b))"
   ]
  },
  {
   "cell_type": "markdown",
   "id": "6549acff",
   "metadata": {},
   "source": [
    "# 2D array"
   ]
  },
  {
   "cell_type": "code",
   "execution_count": 21,
   "id": "0cd9e762",
   "metadata": {},
   "outputs": [
    {
     "name": "stdout",
     "output_type": "stream",
     "text": [
      "[[ 2  3  4]\n",
      " [ 1 11 12]\n",
      " [ 6 22 52]]\n"
     ]
    }
   ],
   "source": [
    "c= np.array([[4,2,3],[1,12,11],[22,52,6]])\n",
    "print(np.sort(c))"
   ]
  },
  {
   "cell_type": "markdown",
   "id": "c33f24fb",
   "metadata": {},
   "source": [
    "# filter array"
   ]
  },
  {
   "cell_type": "code",
   "execution_count": 23,
   "id": "0c636f00",
   "metadata": {},
   "outputs": [
    {
     "name": "stdout",
     "output_type": "stream",
     "text": [
      "['a' 'f']\n",
      "<class 'numpy.ndarray'>\n"
     ]
    }
   ],
   "source": [
    "d= np.array(['a','s','d','f'])\n",
    "f=[True,False,False,True]\n",
    "a=d[f]\n",
    "print(a)\n",
    "print(type(a))"
   ]
  },
  {
   "cell_type": "code",
   "execution_count": null,
   "id": "5f65afef",
   "metadata": {},
   "outputs": [],
   "source": []
  }
 ],
 "metadata": {
  "kernelspec": {
   "display_name": "Python 3 (ipykernel)",
   "language": "python",
   "name": "python3"
  },
  "language_info": {
   "codemirror_mode": {
    "name": "ipython",
    "version": 3
   },
   "file_extension": ".py",
   "mimetype": "text/x-python",
   "name": "python",
   "nbconvert_exporter": "python",
   "pygments_lexer": "ipython3",
   "version": "3.9.12"
  }
 },
 "nbformat": 4,
 "nbformat_minor": 5
}
