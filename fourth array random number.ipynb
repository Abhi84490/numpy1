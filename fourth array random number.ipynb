{
 "cells": [
  {
   "cell_type": "markdown",
   "id": "572d374f",
   "metadata": {},
   "source": [
    "# random functtion"
   ]
  },
  {
   "cell_type": "markdown",
   "id": "e7c12d61",
   "metadata": {},
   "source": [
    "\n",
    "# rand()"
   ]
  },
  {
   "cell_type": "code",
   "execution_count": 1,
   "id": "6ba7bb10",
   "metadata": {},
   "outputs": [
    {
     "name": "stdout",
     "output_type": "stream",
     "text": [
      "[0.19897059 0.9143034  0.58849681 0.09706566]\n"
     ]
    }
   ],
   "source": [
    "# 1D ARRAR\n",
    "\n",
    "import numpy as np\n",
    "var= np.random.rand(4)\n",
    "print(var)"
   ]
  },
  {
   "cell_type": "code",
   "execution_count": 2,
   "id": "a4e35d1f",
   "metadata": {},
   "outputs": [
    {
     "name": "stdout",
     "output_type": "stream",
     "text": [
      "[[0.02275637 0.75964169 0.7337768  0.3362031  0.50316643]\n",
      " [0.19874784 0.59919056 0.21704268 0.46878847 0.82870091]\n",
      " [0.77927733 0.50823286 0.7352135  0.61583879 0.94872597]]\n"
     ]
    }
   ],
   "source": [
    "# 3D ARRAY \n",
    "\n",
    "import numpy as np\n",
    "var2= np.random.rand(3,5)\n",
    "print(var2)"
   ]
  },
  {
   "cell_type": "markdown",
   "id": "4da73745",
   "metadata": {},
   "source": [
    "# randn()\n"
   ]
  },
  {
   "cell_type": "code",
   "execution_count": 3,
   "id": "29dd44d2",
   "metadata": {},
   "outputs": [
    {
     "name": "stdout",
     "output_type": "stream",
     "text": [
      "[ 0.87247977 -0.68591832  0.2015303  -0.16299813 -0.69748025]\n"
     ]
    }
   ],
   "source": [
    "import numpy as np\n",
    "var = np.random.randn(5)\n",
    "print(var)"
   ]
  },
  {
   "cell_type": "markdown",
   "id": "79a87df2",
   "metadata": {},
   "source": [
    "# ranf()"
   ]
  },
  {
   "cell_type": "code",
   "execution_count": 5,
   "id": "c8803810",
   "metadata": {},
   "outputs": [
    {
     "name": "stdout",
     "output_type": "stream",
     "text": [
      "[0.84213913 0.48181358 0.37966341 0.57333959]\n"
     ]
    }
   ],
   "source": [
    "import numpy as np\n",
    "var = np.random.ranf(4)\n",
    "print(var)"
   ]
  },
  {
   "cell_type": "markdown",
   "id": "9f902674",
   "metadata": {},
   "source": [
    "# randint()"
   ]
  },
  {
   "cell_type": "code",
   "execution_count": 7,
   "id": "22fba97c",
   "metadata": {},
   "outputs": [
    {
     "name": "stdout",
     "output_type": "stream",
     "text": [
      "[15 19 19 14 19]\n"
     ]
    }
   ],
   "source": [
    "import numpy as np\n",
    "var = np.random.randint(5,20,5)\n",
    "print(var)"
   ]
  },
  {
   "cell_type": "code",
   "execution_count": null,
   "id": "c23ff063",
   "metadata": {},
   "outputs": [],
   "source": []
  }
 ],
 "metadata": {
  "kernelspec": {
   "display_name": "Python 3 (ipykernel)",
   "language": "python",
   "name": "python3"
  },
  "language_info": {
   "codemirror_mode": {
    "name": "ipython",
    "version": 3
   },
   "file_extension": ".py",
   "mimetype": "text/x-python",
   "name": "python",
   "nbconvert_exporter": "python",
   "pygments_lexer": "ipython3",
   "version": "3.9.12"
  }
 },
 "nbformat": 4,
 "nbformat_minor": 5
}
