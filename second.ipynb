{
 "cells": [
  {
   "cell_type": "markdown",
   "id": "06fbe549",
   "metadata": {},
   "source": [
    "# how to create array in numpy\n",
    "\n"
   ]
  },
  {
   "cell_type": "code",
   "execution_count": 2,
   "id": "c873e77d",
   "metadata": {},
   "outputs": [
    {
     "name": "stdout",
     "output_type": "stream",
     "text": [
      "[1 2 3 4]\n",
      "<class 'numpy.ndarray'>\n"
     ]
    }
   ],
   "source": [
    "import numpy as np\n",
    "\n",
    "x=[1,2,3,4]\n",
    "y=np.array(x)\n",
    "print(y)\n",
    "print(type(y))"
   ]
  },
  {
   "cell_type": "code",
   "execution_count": 4,
   "id": "b5384c5e",
   "metadata": {},
   "outputs": [
    {
     "name": "stdout",
     "output_type": "stream",
     "text": [
      "enter:23\n",
      "enter:2324\n",
      "enter:3423\n",
      "enter:434324\n",
      "[    23   2324   3423 434324]\n"
     ]
    }
   ],
   "source": [
    "l=[]\n",
    "\n",
    "for i in range(1,5):\n",
    "    int_l = int(input('enter:'))\n",
    "    l.append(int_l)\n",
    "print(np.array(l))"
   ]
  },
  {
   "cell_type": "markdown",
   "id": "aebfa3f3",
   "metadata": {},
   "source": [
    "# types of array"
   ]
  },
  {
   "cell_type": "code",
   "execution_count": 5,
   "id": "2abe058a",
   "metadata": {},
   "outputs": [],
   "source": [
    "# 1D-[1,33,45,34]\n",
    "# 2D-[[1,3,4,54,33]]\n",
    "# 3D-[[[2,3,5,65,6,]]]\n"
   ]
  },
  {
   "cell_type": "code",
   "execution_count": 6,
   "id": "7dc30836",
   "metadata": {},
   "outputs": [
    {
     "name": "stdout",
     "output_type": "stream",
     "text": [
      "[1 2 3 4 5]\n",
      "1\n"
     ]
    }
   ],
   "source": [
    "x=[1,2,3,4,5]\n",
    "y=np.array(x)\n",
    "print(y)\n",
    "\n",
    "\n",
    "#dimension check\n",
    "print(y.ndim)"
   ]
  },
  {
   "cell_type": "code",
   "execution_count": 7,
   "id": "aaa09a9c",
   "metadata": {},
   "outputs": [
    {
     "name": "stdout",
     "output_type": "stream",
     "text": [
      "[[1 2 3 4 5]]\n",
      "2\n"
     ]
    }
   ],
   "source": [
    "#2 dimension arrya\n",
    "\n",
    "x=[[1,2,3,4,5]]\n",
    "y=np.array(x)\n",
    "print(y)\n",
    "print(y.ndim)"
   ]
  },
  {
   "cell_type": "code",
   "execution_count": 10,
   "id": "54f61540",
   "metadata": {},
   "outputs": [
    {
     "name": "stdout",
     "output_type": "stream",
     "text": [
      "2\n",
      "[[1 2 3 4]\n",
      " [5 6 7 8]]\n"
     ]
    }
   ],
   "source": [
    "ar2 = np.array([[1,2,3,4],[5,6,7,8]])\n",
    "print(ar2.ndim)\n",
    "print(ar2)"
   ]
  },
  {
   "cell_type": "code",
   "execution_count": 11,
   "id": "10596576",
   "metadata": {},
   "outputs": [
    {
     "name": "stdout",
     "output_type": "stream",
     "text": [
      "1\n",
      "[list([1, 2, 3, 4]) list([5, 6, 7, 8, 9])]\n"
     ]
    },
    {
     "name": "stderr",
     "output_type": "stream",
     "text": [
      "C:\\Users\\Santosh Dhavan\\AppData\\Local\\Temp\\ipykernel_14960\\1088413431.py:1: VisibleDeprecationWarning: Creating an ndarray from ragged nested sequences (which is a list-or-tuple of lists-or-tuples-or ndarrays with different lengths or shapes) is deprecated. If you meant to do this, you must specify 'dtype=object' when creating the ndarray.\n",
      "  ar2 = np.array([[1,2,3,4],[5,6,7,8,9]])\n"
     ]
    }
   ],
   "source": [
    "ar2 = np.array([[1,2,3,4],[5,6,7,8,9]])\n",
    "print(ar2.ndim)\n",
    "print(ar2)"
   ]
  },
  {
   "cell_type": "code",
   "execution_count": 12,
   "id": "c64f9797",
   "metadata": {},
   "outputs": [
    {
     "name": "stdout",
     "output_type": "stream",
     "text": [
      "1\n",
      "[list([1, 2, 3, 4]) list([5, 6, 7])]\n"
     ]
    },
    {
     "name": "stderr",
     "output_type": "stream",
     "text": [
      "C:\\Users\\Santosh Dhavan\\AppData\\Local\\Temp\\ipykernel_14960\\976730200.py:1: VisibleDeprecationWarning: Creating an ndarray from ragged nested sequences (which is a list-or-tuple of lists-or-tuples-or ndarrays with different lengths or shapes) is deprecated. If you meant to do this, you must specify 'dtype=object' when creating the ndarray.\n",
      "  ar2 = np.array([[1,2,3,4],[5,6,7]])\n"
     ]
    }
   ],
   "source": [
    "ar2 = np.array([[1,2,3,4],[5,6,7]])\n",
    "print(ar2.ndim)\n",
    "print(ar2)"
   ]
  },
  {
   "cell_type": "code",
   "execution_count": 13,
   "id": "89f8c46a",
   "metadata": {},
   "outputs": [
    {
     "name": "stdout",
     "output_type": "stream",
     "text": [
      "3\n"
     ]
    }
   ],
   "source": [
    "# 3D\n",
    "\n",
    "ar3= np.array([[[1,2,3,4],[5,6,7,8],[9,10,11,12]]])\n",
    "print(ar3.ndim)"
   ]
  },
  {
   "cell_type": "code",
   "execution_count": 14,
   "id": "5504b157",
   "metadata": {},
   "outputs": [
    {
     "name": "stdout",
     "output_type": "stream",
     "text": [
      "10\n"
     ]
    }
   ],
   "source": [
    "# ND ARRAY\n",
    "\n",
    "arn= np.array([1,2,3,4],ndmin=10)\n",
    "print(arn.ndim)"
   ]
  },
  {
   "cell_type": "code",
   "execution_count": 17,
   "id": "31f2eb6a",
   "metadata": {},
   "outputs": [
    {
     "name": "stdout",
     "output_type": "stream",
     "text": [
      "20\n"
     ]
    }
   ],
   "source": [
    "# ND ARRAY\n",
    "\n",
    "arn= np.array([1,2,3,4],ndmin=20)\n",
    "print(arn.ndim)"
   ]
  },
  {
   "cell_type": "code",
   "execution_count": null,
   "id": "e7e590fb",
   "metadata": {},
   "outputs": [],
   "source": []
  }
 ],
 "metadata": {
  "kernelspec": {
   "display_name": "Python 3 (ipykernel)",
   "language": "python",
   "name": "python3"
  },
  "language_info": {
   "codemirror_mode": {
    "name": "ipython",
    "version": 3
   },
   "file_extension": ".py",
   "mimetype": "text/x-python",
   "name": "python",
   "nbconvert_exporter": "python",
   "pygments_lexer": "ipython3",
   "version": "3.9.12"
  }
 },
 "nbformat": 4,
 "nbformat_minor": 5
}
