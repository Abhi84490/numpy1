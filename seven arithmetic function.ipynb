{
 "cells": [
  {
   "cell_type": "code",
   "execution_count": 1,
   "id": "9e674879",
   "metadata": {},
   "outputs": [
    {
     "name": "stdout",
     "output_type": "stream",
     "text": [
      "min: 1\n"
     ]
    }
   ],
   "source": [
    "import numpy as np\n",
    "var= np.array([1,3,4,6,7])\n",
    "print(\"min:\", np.min(var))"
   ]
  },
  {
   "cell_type": "code",
   "execution_count": 3,
   "id": "1a33c7b0",
   "metadata": {},
   "outputs": [
    {
     "name": "stdout",
     "output_type": "stream",
     "text": [
      "max: 5\n",
      "4\n"
     ]
    }
   ],
   "source": [
    "import numpy as np\n",
    "var= np.array([1,2,3,4,5])\n",
    "print(\"max:\", np.max(var))\n",
    "#index find karne k liyae\n",
    "print(np.argmax(var))"
   ]
  },
  {
   "cell_type": "code",
   "execution_count": 4,
   "id": "8f360b84",
   "metadata": {},
   "outputs": [
    {
     "name": "stdout",
     "output_type": "stream",
     "text": [
      "[1 2]\n"
     ]
    }
   ],
   "source": [
    "import numpy as np\n",
    "var1=np.array([[1,2,3,4], [2,4,5,6]])\n",
    "print(np.min(var1, axis=1))"
   ]
  },
  {
   "cell_type": "markdown",
   "id": "17174485",
   "metadata": {},
   "source": [
    "# np.sqrt()"
   ]
  },
  {
   "cell_type": "code",
   "execution_count": 5,
   "id": "50a735d0",
   "metadata": {},
   "outputs": [
    {
     "name": "stdout",
     "output_type": "stream",
     "text": [
      "sqrt [1.         1.73205081 2.         2.23606798 2.44948974]\n"
     ]
    }
   ],
   "source": [
    "import numpy as np\n",
    "var1= np.array([1,3,4,5,6])\n",
    "print('sqrt', np.sqrt(var1))"
   ]
  },
  {
   "cell_type": "code",
   "execution_count": 6,
   "id": "52979c9f",
   "metadata": {},
   "outputs": [
    {
     "name": "stdout",
     "output_type": "stream",
     "text": [
      "cumsum: [ 1  3  6 10 15]\n"
     ]
    }
   ],
   "source": [
    "import numpy as np\n",
    "var1= np.array([1,2,3,4,5])\n",
    "print(\"cumsum:\", np.cumsum(var1))\n",
    "\n",
    "\n",
    "#same as febonachi series"
   ]
  },
  {
   "cell_type": "code",
   "execution_count": null,
   "id": "c21ab102",
   "metadata": {},
   "outputs": [],
   "source": []
  }
 ],
 "metadata": {
  "kernelspec": {
   "display_name": "Python 3 (ipykernel)",
   "language": "python",
   "name": "python3"
  },
  "language_info": {
   "codemirror_mode": {
    "name": "ipython",
    "version": 3
   },
   "file_extension": ".py",
   "mimetype": "text/x-python",
   "name": "python",
   "nbconvert_exporter": "python",
   "pygments_lexer": "ipython3",
   "version": "3.9.12"
  }
 },
 "nbformat": 4,
 "nbformat_minor": 5
}
