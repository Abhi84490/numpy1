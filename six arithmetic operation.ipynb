{
 "cells": [
  {
   "cell_type": "markdown",
   "id": "b03c6bd3",
   "metadata": {},
   "source": [
    "# arithmetic operation"
   ]
  },
  {
   "cell_type": "code",
   "execution_count": 1,
   "id": "cf208ddf",
   "metadata": {},
   "outputs": [
    {
     "name": "stdout",
     "output_type": "stream",
     "text": [
      "[4 5 6 7]\n"
     ]
    }
   ],
   "source": [
    "import numpy as np\n",
    "\n",
    "var = np.array([1,2,3,4])\n",
    "varadd= var+3\n",
    "print(varadd)"
   ]
  },
  {
   "cell_type": "code",
   "execution_count": 2,
   "id": "39b8cf15",
   "metadata": {},
   "outputs": [
    {
     "ename": "TypeError",
     "evalue": "can only concatenate list (not \"int\") to list",
     "output_type": "error",
     "traceback": [
      "\u001b[1;31m---------------------------------------------------------------------------\u001b[0m",
      "\u001b[1;31mTypeError\u001b[0m                                 Traceback (most recent call last)",
      "Input \u001b[1;32mIn [2]\u001b[0m, in \u001b[0;36m<cell line: 2>\u001b[1;34m()\u001b[0m\n\u001b[0;32m      1\u001b[0m var \u001b[38;5;241m=\u001b[39m [\u001b[38;5;241m1\u001b[39m,\u001b[38;5;241m2\u001b[39m,\u001b[38;5;241m3\u001b[39m,\u001b[38;5;241m4\u001b[39m]\n\u001b[1;32m----> 2\u001b[0m var1\u001b[38;5;241m=\u001b[39m \u001b[43mvar\u001b[49m\u001b[38;5;241;43m+\u001b[39;49m\u001b[38;5;241;43m2\u001b[39;49m\n\u001b[0;32m      3\u001b[0m \u001b[38;5;28mprint\u001b[39m(var1)\n",
      "\u001b[1;31mTypeError\u001b[0m: can only concatenate list (not \"int\") to list"
     ]
    }
   ],
   "source": [
    "var = [1,2,3,4]\n",
    "var1= var+2\n",
    "print(var1)"
   ]
  },
  {
   "cell_type": "code",
   "execution_count": 14,
   "id": "d384947c",
   "metadata": {},
   "outputs": [
    {
     "name": "stdout",
     "output_type": "stream",
     "text": [
      "[ 6  8 10  7  9]\n"
     ]
    }
   ],
   "source": [
    "import numpy as np\n",
    "var1= np.array([1,2,3,4,5])\n",
    "var2= np.array([5,6,7,3,4])\n",
    "\n",
    "varadd= var1+var2\n",
    "#varadd= np.add(var1,var2)------>   function\n",
    "print(varadd)"
   ]
  },
  {
   "cell_type": "markdown",
   "id": "1f4f7acf",
   "metadata": {},
   "source": [
    "# subtraction"
   ]
  },
  {
   "cell_type": "code",
   "execution_count": 4,
   "id": "26a29ace",
   "metadata": {},
   "outputs": [
    {
     "name": "stdout",
     "output_type": "stream",
     "text": [
      "[-3 -3 -3  1  1]\n"
     ]
    }
   ],
   "source": [
    "import numpy as np\n",
    "var1= np.array([1,2,3,4,5])\n",
    "var2=np.array([4,5,6,3,4])\n",
    "varmin= var1-var2\n",
    "print(varmin)"
   ]
  },
  {
   "cell_type": "code",
   "execution_count": 7,
   "id": "e2029617",
   "metadata": {},
   "outputs": [
    {
     "name": "stdout",
     "output_type": "stream",
     "text": [
      "[0 0 1 3 4]\n"
     ]
    }
   ],
   "source": [
    "import numpy as np\n",
    "var1= np.array([1,2,3,4,5])\n",
    "var2= np.array([5,6,7,7,4])\n",
    "varmodulo= var2%var1\n",
    "print(varmodulo)"
   ]
  },
  {
   "cell_type": "code",
   "execution_count": 8,
   "id": "81620b10",
   "metadata": {},
   "outputs": [
    {
     "name": "stdout",
     "output_type": "stream",
     "text": [
      "[5.         3.         2.33333333 1.75       0.8       ]\n"
     ]
    }
   ],
   "source": [
    "import numpy as np\n",
    "var1= np.array([1,2,3,4,5])\n",
    "var2= np.array([5,6,7,7,4])\n",
    "varmodulo= var2/var1\n",
    "print(varmodulo)"
   ]
  },
  {
   "cell_type": "code",
   "execution_count": 12,
   "id": "b2927c49",
   "metadata": {},
   "outputs": [
    {
     "name": "stdout",
     "output_type": "stream",
     "text": [
      "[5 3 2 1 0]\n"
     ]
    }
   ],
   "source": [
    "import numpy as np\n",
    "var1= np.array([1,2,3,4,5])\n",
    "var2= np.array([5,6,7,7,4])\n",
    "varmodulo= var2//var1\n",
    "print(varmodulo)"
   ]
  },
  {
   "cell_type": "markdown",
   "id": "8683f15b",
   "metadata": {},
   "source": [
    "# 2D ARRAY"
   ]
  },
  {
   "cell_type": "code",
   "execution_count": 16,
   "id": "a212d488",
   "metadata": {},
   "outputs": [
    {
     "name": "stdout",
     "output_type": "stream",
     "text": [
      "[[ 2  4  6  8]\n",
      " [ 7  9 11 13]]\n"
     ]
    }
   ],
   "source": [
    "import numpy as np\n",
    "var21= np.array([[1,2,3,4],[1,2,3,4]])\n",
    "var22= np.array([[1,2,3,4,], [6,7,8,9]])\n",
    "\n",
    "#|varadd = np.add(var21,var22)\n",
    "varadd= var21+var22\n",
    "print(varadd)\n"
   ]
  },
  {
   "cell_type": "code",
   "execution_count": null,
   "id": "e3fa299d",
   "metadata": {},
   "outputs": [],
   "source": []
  },
  {
   "cell_type": "code",
   "execution_count": null,
   "id": "87b24896",
   "metadata": {},
   "outputs": [],
   "source": []
  }
 ],
 "metadata": {
  "kernelspec": {
   "display_name": "Python 3 (ipykernel)",
   "language": "python",
   "name": "python3"
  },
  "language_info": {
   "codemirror_mode": {
    "name": "ipython",
    "version": 3
   },
   "file_extension": ".py",
   "mimetype": "text/x-python",
   "name": "python",
   "nbconvert_exporter": "python",
   "pygments_lexer": "ipython3",
   "version": "3.9.12"
  }
 },
 "nbformat": 4,
 "nbformat_minor": 5
}
