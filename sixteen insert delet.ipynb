{
 "cells": [
  {
   "cell_type": "markdown",
   "id": "78927114",
   "metadata": {},
   "source": [
    "# insert"
   ]
  },
  {
   "cell_type": "code",
   "execution_count": 8,
   "id": "cebb6157",
   "metadata": {},
   "outputs": [
    {
     "name": "stdout",
     "output_type": "stream",
     "text": [
      "[1 2 3 4]\n",
      "[ 1  2 40  3  4 40]\n"
     ]
    }
   ],
   "source": [
    "import numpy as np\n",
    "var= np.array([1,2,3,4])\n",
    "print(var)\n",
    "\n",
    "a= np.insert(var,(2,4),40)\n",
    "print(a)"
   ]
  },
  {
   "cell_type": "markdown",
   "id": "3141a520",
   "metadata": {},
   "source": [
    "## 2D\n"
   ]
  },
  {
   "cell_type": "code",
   "execution_count": 9,
   "id": "9a78debe",
   "metadata": {},
   "outputs": [
    {
     "name": "stdout",
     "output_type": "stream",
     "text": [
      "[[1 2 7 3]\n",
      " [4 5 7 6]]\n"
     ]
    }
   ],
   "source": [
    "import numpy as np\n",
    "a= np.array([[1,2,3],[4,5,6]])\n",
    "b= np.insert(a,2,7,axis=1)\n",
    "print(b)"
   ]
  },
  {
   "cell_type": "markdown",
   "id": "976b6a5f",
   "metadata": {},
   "source": [
    "# append function"
   ]
  },
  {
   "cell_type": "code",
   "execution_count": 12,
   "id": "049fc08f",
   "metadata": {},
   "outputs": [
    {
     "name": "stdout",
     "output_type": "stream",
     "text": [
      "[1 2 3 4 5 6]\n"
     ]
    }
   ],
   "source": [
    "import numpy as np\n",
    "\n",
    "c= np.array([1,2,3,4,5])\n",
    "d= np.append(c,6)\n",
    "print(d)"
   ]
  },
  {
   "cell_type": "markdown",
   "id": "8f154c0b",
   "metadata": {},
   "source": [
    "# delete"
   ]
  },
  {
   "cell_type": "code",
   "execution_count": 16,
   "id": "b86f3030",
   "metadata": {},
   "outputs": [
    {
     "name": "stdout",
     "output_type": "stream",
     "text": [
      "[1 2 3 4 5]\n",
      "[1 2 3 5]\n"
     ]
    }
   ],
   "source": [
    "import numpy as np\n",
    "\n",
    "a= np.array([1,2,3,4,5])\n",
    "print(a)\n",
    "\n",
    "d= np.delete(a,3)\n",
    "print(d)\n",
    "\n",
    "\n"
   ]
  },
  {
   "cell_type": "code",
   "execution_count": null,
   "id": "decff994",
   "metadata": {},
   "outputs": [],
   "source": [
    "\n"
   ]
  }
 ],
 "metadata": {
  "kernelspec": {
   "display_name": "Python 3 (ipykernel)",
   "language": "python",
   "name": "python3"
  },
  "language_info": {
   "codemirror_mode": {
    "name": "ipython",
    "version": 3
   },
   "file_extension": ".py",
   "mimetype": "text/x-python",
   "name": "python",
   "nbconvert_exporter": "python",
   "pygments_lexer": "ipython3",
   "version": "3.9.12"
  }
 },
 "nbformat": 4,
 "nbformat_minor": 5
}
