{
 "cells": [
  {
   "cell_type": "markdown",
   "id": "99740877",
   "metadata": {},
   "source": [
    "# indexing\n"
   ]
  },
  {
   "cell_type": "code",
   "execution_count": 2,
   "id": "cb2af635",
   "metadata": {},
   "outputs": [
    {
     "name": "stdout",
     "output_type": "stream",
     "text": [
      "2\n",
      "5\n"
     ]
    }
   ],
   "source": [
    "import numpy as np\n",
    "\n",
    "var= np.array([1,2,3,4,5])\n",
    "#indexing start with o\n",
    "\n",
    "print(var[1])\n",
    "print(var[-1])"
   ]
  },
  {
   "cell_type": "code",
   "execution_count": 9,
   "id": "fc692ab2",
   "metadata": {},
   "outputs": [
    {
     "name": "stdout",
     "output_type": "stream",
     "text": [
      "(2, 5)\n",
      "2\n",
      "2\n"
     ]
    }
   ],
   "source": [
    "# 2d aray\n",
    "var2= np.array([[1,2,3,4,5],[7,5,8,9,11]])\n",
    "print(var2.shape)\n",
    "print(var2.ndim)\n",
    "\n",
    "\n",
    "\n",
    "print(var2[0,1])"
   ]
  },
  {
   "cell_type": "markdown",
   "id": "b9824513",
   "metadata": {},
   "source": [
    "# 3D array"
   ]
  },
  {
   "cell_type": "code",
   "execution_count": 19,
   "id": "01228779",
   "metadata": {},
   "outputs": [
    {
     "name": "stdout",
     "output_type": "stream",
     "text": [
      "(1, 3, 4)\n",
      "3\n",
      "[[[ 1  2  3  4]\n",
      "  [ 5  6  7  8]\n",
      "  [ 9 10 11 12]]]\n",
      "6\n",
      "1\n"
     ]
    }
   ],
   "source": [
    "var3= np.array([[[1,2,3,4],[5,6,7,8],[9,10,11,12]]])\n",
    "print(var3.shape)\n",
    "print(var3.ndim)\n",
    "# print(var3[1,1,0])\n",
    "print(var3)\n",
    "print(var3[0,1,1])\n",
    "print(var3[0,0,0])"
   ]
  },
  {
   "cell_type": "markdown",
   "id": "10d9286a",
   "metadata": {},
   "source": [
    "# slicing"
   ]
  },
  {
   "cell_type": "code",
   "execution_count": 29,
   "id": "6057d347",
   "metadata": {},
   "outputs": [
    {
     "name": "stdout",
     "output_type": "stream",
     "text": [
      "[1 2 3 4 5 6 7]\n",
      "\n",
      "[3 4 5 6]\n",
      "\n",
      "2 to end:  [2 3 4 5 6 7]\n",
      "start to end: [1 2 3 4 5 6 7]\n",
      "start to 5:  [1 2 3 4 5 6]\n",
      "\n",
      "jum : [1 3 5 7]\n"
     ]
    }
   ],
   "source": [
    "import numpy as np\n",
    "\n",
    "var = np.array([1,2,3,4,5,6,7])\n",
    "print(var)\n",
    "print()\n",
    "\n",
    "print(var[2:6])\n",
    "\n",
    "\n",
    "print()\n",
    "print(\"2 to end: \", var[1:])\n",
    "print(\"start to end:\", var[:])\n",
    "print(\"start to 5: \", var[:6])\n",
    "\n",
    "print()\n",
    "print(\"jum :\", var[0::2])"
   ]
  },
  {
   "cell_type": "code",
   "execution_count": 32,
   "id": "1654dc05",
   "metadata": {},
   "outputs": [
    {
     "name": "stdout",
     "output_type": "stream",
     "text": [
      "2\n",
      "[[ 1  2  3  4  5]\n",
      " [ 9  8  7  6  5]\n",
      " [11 12 13 14 15]]\n",
      "8to 5: [8 7 6 5]\n"
     ]
    }
   ],
   "source": [
    "var1= np.array([[1,2,3,4,5],[9,8,7,6,5],[11,12,13,14,15]])\n",
    "print(var1.ndim)\n",
    "print(var1)\n",
    "print(\"8to 5:\", var1[1,1:])"
   ]
  },
  {
   "cell_type": "code",
   "execution_count": null,
   "id": "62922aea",
   "metadata": {},
   "outputs": [],
   "source": []
  }
 ],
 "metadata": {
  "kernelspec": {
   "display_name": "Python 3 (ipykernel)",
   "language": "python",
   "name": "python3"
  },
  "language_info": {
   "codemirror_mode": {
    "name": "ipython",
    "version": 3
   },
   "file_extension": ".py",
   "mimetype": "text/x-python",
   "name": "python",
   "nbconvert_exporter": "python",
   "pygments_lexer": "ipython3",
   "version": "3.9.12"
  }
 },
 "nbformat": 4,
 "nbformat_minor": 5
}
