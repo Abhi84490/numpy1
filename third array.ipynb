{
 "cells": [
  {
   "cell_type": "markdown",
   "id": "5f23c926",
   "metadata": {},
   "source": [
    "# array filled by zero \n",
    "import numpy as np\n",
    "\n",
    "# 1 dim. array\n",
    "\n",
    "ar_zero= np.zeros(4)\n",
    "\n",
    "# 3 dim. array\n",
    "\n",
    "ar_zero1= np.zeros((3,4))\n",
    "print(ar_zero)\n",
    "print('dono k bich mai space k liyae hai')\n",
    "print(ar_zero1)\n",
    "\n"
   ]
  },
  {
   "cell_type": "markdown",
   "id": "83459457",
   "metadata": {},
   "source": [
    "# array filled by one\n"
   ]
  },
  {
   "cell_type": "code",
   "execution_count": 8,
   "id": "1e8601aa",
   "metadata": {},
   "outputs": [
    {
     "name": "stdout",
     "output_type": "stream",
     "text": [
      "[1. 1. 1. 1.]\n"
     ]
    }
   ],
   "source": [
    "# array for 1\n",
    "\n",
    "import numpy as np\n",
    "ar_one= np.ones(4)\n",
    "print(ar_one)"
   ]
  },
  {
   "cell_type": "markdown",
   "id": "77a5c622",
   "metadata": {},
   "source": [
    "# array filled by empty"
   ]
  },
  {
   "cell_type": "code",
   "execution_count": 9,
   "id": "d916537e",
   "metadata": {},
   "outputs": [
    {
     "name": "stdout",
     "output_type": "stream",
     "text": [
      "[1. 1. 1. 1.]\n"
     ]
    }
   ],
   "source": [
    "ar_emp=np.empty(4)\n",
    "print(ar_emp)"
   ]
  },
  {
   "cell_type": "markdown",
   "id": "5cdb5ced",
   "metadata": {},
   "source": [
    "# range array"
   ]
  },
  {
   "cell_type": "code",
   "execution_count": 10,
   "id": "e683a8c0",
   "metadata": {},
   "outputs": [
    {
     "name": "stdout",
     "output_type": "stream",
     "text": [
      "[0 1 2 3]\n"
     ]
    }
   ],
   "source": [
    "ar_rn = np.arange(4)\n",
    "print(ar_rn)"
   ]
  },
  {
   "cell_type": "markdown",
   "id": "c3338892",
   "metadata": {},
   "source": [
    "# diagonal"
   ]
  },
  {
   "cell_type": "code",
   "execution_count": 13,
   "id": "7424b8c0",
   "metadata": {},
   "outputs": [
    {
     "name": "stdout",
     "output_type": "stream",
     "text": [
      "[[1. 0. 0.]\n",
      " [0. 1. 0.]\n",
      " [0. 0. 1.]]\n"
     ]
    }
   ],
   "source": [
    "ar_dia = np.eye(3)\n",
    "print(ar_dia)"
   ]
  },
  {
   "cell_type": "code",
   "execution_count": 12,
   "id": "607107fd",
   "metadata": {},
   "outputs": [
    {
     "name": "stdout",
     "output_type": "stream",
     "text": [
      "[[1. 0. 0. 0. 0. 0.]\n",
      " [0. 1. 0. 0. 0. 0.]\n",
      " [0. 0. 1. 0. 0. 0.]\n",
      " [0. 0. 0. 1. 0. 0.]\n",
      " [0. 0. 0. 0. 1. 0.]]\n"
     ]
    }
   ],
   "source": [
    "ar_dia = np.eye(5,6)\n",
    "print(ar_dia)"
   ]
  },
  {
   "cell_type": "markdown",
   "id": "e52d921a",
   "metadata": {},
   "source": [
    "# linspace"
   ]
  },
  {
   "cell_type": "code",
   "execution_count": 21,
   "id": "41a12adf",
   "metadata": {},
   "outputs": [
    {
     "name": "stdout",
     "output_type": "stream",
     "text": [
      "[ 0.          0.90909091  1.81818182  2.72727273  3.63636364  4.54545455\n",
      "  5.45454545  6.36363636  7.27272727  8.18181818  9.09090909 10.        ]\n"
     ]
    }
   ],
   "source": [
    "ar_lin = np.linspace(0,10, num =12)\n",
    "print(ar_lin)"
   ]
  },
  {
   "cell_type": "code",
   "execution_count": null,
   "id": "24ff55cd",
   "metadata": {},
   "outputs": [],
   "source": []
  }
 ],
 "metadata": {
  "kernelspec": {
   "display_name": "Python 3 (ipykernel)",
   "language": "python",
   "name": "python3"
  },
  "language_info": {
   "codemirror_mode": {
    "name": "ipython",
    "version": 3
   },
   "file_extension": ".py",
   "mimetype": "text/x-python",
   "name": "python",
   "nbconvert_exporter": "python",
   "pygments_lexer": "ipython3",
   "version": "3.9.12"
  }
 },
 "nbformat": 4,
 "nbformat_minor": 5
}
