{
 "cells": [
  {
   "cell_type": "markdown",
   "id": "e76e368f",
   "metadata": {},
   "source": [
    "# copy vs view"
   ]
  },
  {
   "cell_type": "code",
   "execution_count": 2,
   "id": "e644462a",
   "metadata": {},
   "outputs": [
    {
     "name": "stdout",
     "output_type": "stream",
     "text": [
      "copy [1 2 3 4]\n",
      "var [1 2 3 4]\n"
     ]
    }
   ],
   "source": [
    "import numpy as np\n",
    "var =np.array([1,2,3,4])\n",
    "\n",
    "# copy funciton\n",
    "co= var.copy()\n",
    "print(\"copy\",co)\n",
    "\n",
    "print(\"var\",var)"
   ]
  },
  {
   "cell_type": "code",
   "execution_count": 4,
   "id": "79b19dae",
   "metadata": {},
   "outputs": [
    {
     "name": "stdout",
     "output_type": "stream",
     "text": [
      "copy [1 2 3 4]\n",
      "var [ 1 40  3  4]\n"
     ]
    }
   ],
   "source": [
    "import numpy as np\n",
    "var =np.array([1,2,3,4])\n",
    "\n",
    "# copy funciton\n",
    "co= var.copy()\n",
    "var[1]=40\n",
    "print(\"copy\",co)\n",
    "\n",
    "print(\"var\",var)"
   ]
  },
  {
   "cell_type": "markdown",
   "id": "6c6af256",
   "metadata": {},
   "source": [
    "# view function"
   ]
  },
  {
   "cell_type": "code",
   "execution_count": 3,
   "id": "bec7398d",
   "metadata": {},
   "outputs": [
    {
     "name": "stdout",
     "output_type": "stream",
     "text": [
      "s: [9 8 7 6]\n",
      "view: [9 8 7 6]\n"
     ]
    }
   ],
   "source": [
    "x=np.array([9,8,7,6])\n",
    "vi= x.view()\n",
    "print(\"s:\", x)\n",
    "print(\"view:\", vi)"
   ]
  },
  {
   "cell_type": "code",
   "execution_count": 5,
   "id": "ae53c6fa",
   "metadata": {},
   "outputs": [
    {
     "name": "stdout",
     "output_type": "stream",
     "text": [
      "s: [ 9 40  7  6]\n",
      "view: [ 9 40  7  6]\n"
     ]
    }
   ],
   "source": [
    "x=np.array([9,8,7,6])\n",
    "vi= x.view()\n",
    "\n",
    "x[1]=40\n",
    "print(\"s:\", x)\n",
    "print(\"view:\", vi)"
   ]
  },
  {
   "cell_type": "code",
   "execution_count": null,
   "id": "4bf94100",
   "metadata": {},
   "outputs": [],
   "source": [
    " "
   ]
  }
 ],
 "metadata": {
  "kernelspec": {
   "display_name": "Python 3 (ipykernel)",
   "language": "python",
   "name": "python3"
  },
  "language_info": {
   "codemirror_mode": {
    "name": "ipython",
    "version": 3
   },
   "file_extension": ".py",
   "mimetype": "text/x-python",
   "name": "python",
   "nbconvert_exporter": "python",
   "pygments_lexer": "ipython3",
   "version": "3.9.12"
  }
 },
 "nbformat": 4,
 "nbformat_minor": 5
}
